{
 "cells": [
  {
   "attachments": {},
   "cell_type": "markdown",
   "metadata": {},
   "source": [
    "# GPTutorial\n",
    "\n",
    "> Introduction to unsupervised learning with language models and self-attention."
   ]
  },
  {
   "attachments": {},
   "cell_type": "markdown",
   "metadata": {},
   "source": [
    "::: {.callout-warning}\n",
    "Under construction!\n",
    ":::"
   ]
  }
 ],
 "metadata": {
  "kernelspec": {
   "display_name": "base",
   "language": "python",
   "name": "python3"
  },
  "language_info": {
   "name": "python",
   "version": "3.9.13"
  },
  "vscode": {
   "interpreter": {
    "hash": "191e5fe559de51737cd3a4ac9a08e8b1f97a2671a54dd848821c54d89b48063d"
   }
  }
 },
 "nbformat": 4,
 "nbformat_minor": 4
}
